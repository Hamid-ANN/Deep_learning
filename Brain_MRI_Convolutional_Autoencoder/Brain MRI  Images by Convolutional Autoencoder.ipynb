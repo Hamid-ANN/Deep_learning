{
 "cells": [
  {
   "cell_type": "markdown",
   "metadata": {
    "toc": true
   },
   "source": [
    "<h1>Table of Contents<span class=\"tocSkip\"></span></h1>\n",
    "<div class=\"toc\"><ul class=\"toc-item\"><li><span><a href=\"#Autoencoding\" data-toc-modified-id=\"Autoencoding-1\"><span class=\"toc-item-num\">1&nbsp;&nbsp;</span>Autoencoding</a></span><ul class=\"toc-item\"><li><span><a href=\"#Application:\" data-toc-modified-id=\"Application:-1.1\"><span class=\"toc-item-num\">1.1&nbsp;&nbsp;</span>Application:</a></span></li><li><span><a href=\"#Dataset:\" data-toc-modified-id=\"Dataset:-1.2\"><span class=\"toc-item-num\">1.2&nbsp;&nbsp;</span>Dataset:</a></span></li></ul></li><li><span><a href=\"#Data-Preprocessing\" data-toc-modified-id=\"Data-Preprocessing-2\"><span class=\"toc-item-num\">2&nbsp;&nbsp;</span>Data Preprocessing</a></span><ul class=\"toc-item\"><li><span><a href=\"#list-to-array-and-reshape-it-to-matrix\" data-toc-modified-id=\"list-to-array-and-reshape-it-to-matrix-2.1\"><span class=\"toc-item-num\">2.1&nbsp;&nbsp;</span>list to array and reshape it to matrix</a></span></li><li><span><a href=\"#Normalisation-by-max-min\" data-toc-modified-id=\"Normalisation-by-max-min-2.2\"><span class=\"toc-item-num\">2.2&nbsp;&nbsp;</span>Normalisation by max-min</a></span></li><li><span><a href=\"#Padding\" data-toc-modified-id=\"Padding-2.3\"><span class=\"toc-item-num\">2.3&nbsp;&nbsp;</span>Padding</a></span></li></ul></li><li><span><a href=\"#Convolutional-Autoencoder\" data-toc-modified-id=\"Convolutional-Autoencoder-3\"><span class=\"toc-item-num\">3&nbsp;&nbsp;</span>Convolutional Autoencoder</a></span></li></ul></div>"
   ]
  },
  {
   "cell_type": "markdown",
   "metadata": {},
   "source": [
    "# Autoencoding\n",
    "\n",
    "\"Autoencoding\" is a data compression algorithm where the compression and decompression functions are 1) data-specific, 2) lossy, and 3) learned automatically from examples rather than engineered by a human. Additionally, in almost all contexts where the term \"autoencoder\" is used, the compression and decompression functions are implemented with neural networks.\n",
    "\n",
    "1) Data-specific : They will only be able to compress data similar to what they have been trained on.\n",
    "\n",
    "2) lossy,  means that the decompressed outputs will be degraded compared to the original inputs.\n",
    "\n",
    "3) Autoencoders are learned automatically from data examples, which is a useful property: it means that it is easy to train specialized instances of the algorithm.\n",
    "\n",
    "##   Application:\n",
    "\n",
    "Today two interesting practical applications of autoencoders are data denoising (which we feature later in this post), and dimensionality reduction for data visualization. With appropriate dimensionality and sparsity constraints, autoencoders can learn data projections that are more interesting than PCA or other basic techniques.\n",
    "\n",
    "## Dataset:\n",
    "The brain MRI dataset consists of 3D volumes each volume has collection of images of brain MRI's taken at different slices of the brain. It has the nifti format images. We will choose the 50 intermediate slice of each sample."
   ]
  },
  {
   "cell_type": "code",
   "execution_count": null,
   "metadata": {},
   "outputs": [],
   "source": []
  },
  {
   "cell_type": "code",
   "execution_count": 62,
   "metadata": {},
   "outputs": [],
   "source": [
    "import os\n",
    "import cv2\n",
    "from tensorflow.keras.layers import Input,Dense,Flatten,Dropout,Concatenate,Reshape,Conv2D,MaxPooling2D,UpSampling2D,Conv2DTranspose\n",
    "from tensorflow.keras.layers import BatchNormalization\n",
    "from tensorflow.keras.models import Model,Sequential\n",
    "from tensorflow.keras.callbacks import ModelCheckpoint\n",
    "from tensorflow.keras.optimizers import Adadelta, RMSprop,SGD,Adam\n",
    "from tensorflow.keras import regularizers\n",
    "from tensorflow.keras import backend as K\n",
    "import numpy as np\n",
    "import scipy.misc\n",
    "import numpy.random as rng\n",
    "from PIL import Image, ImageDraw, ImageFont\n",
    "from sklearn.utils import shuffle\n",
    "import nibabel as nib #reading MR images\n",
    "from sklearn.model_selection import train_test_split\n",
    "import math\n",
    "import glob\n",
    "from matplotlib import pyplot as plt\n",
    "%matplotlib inline"
   ]
  },
  {
   "cell_type": "code",
   "execution_count": 63,
   "metadata": {},
   "outputs": [
    {
     "data": {
      "text/plain": [
       "['dataset\\\\IXI017-Guys-0698-T2.nii.gz',\n",
       " 'dataset\\\\IXI019-Guys-0702-T2.nii.gz',\n",
       " 'dataset\\\\IXI020-Guys-0700-T2.nii.gz',\n",
       " 'dataset\\\\IXI021-Guys-0703-T2.nii.gz',\n",
       " 'dataset\\\\IXI022-Guys-0701-T2.nii.gz',\n",
       " 'dataset\\\\IXI023-Guys-0699-T2.nii.gz',\n",
       " 'dataset\\\\IXI024-Guys-0705-T2.nii.gz',\n",
       " 'dataset\\\\IXI025-Guys-0852-T2.nii.gz']"
      ]
     },
     "execution_count": 63,
     "metadata": {},
     "output_type": "execute_result"
    }
   ],
   "source": [
    "threed = glob.glob('dataset/*')\n",
    "threed"
   ]
  },
  {
   "cell_type": "markdown",
   "metadata": {},
   "source": [
    "For each 3D volume we use the 50 slice at the middle. for each image also we leave out the black area around that. "
   ]
  },
  {
   "cell_type": "code",
   "execution_count": 64,
   "metadata": {},
   "outputs": [
    {
     "name": "stderr",
     "output_type": "stream",
     "text": [
      "C:\\Users\\Hamid\\Anaconda3\\lib\\site-packages\\ipykernel_launcher.py:5: DeprecationWarning: get_data() is deprecated in favor of get_fdata(), which has a more predictable return type. To obtain get_data() behavior going forward, use numpy.asanyarray(img.dataobj).\n",
      "\n",
      "* deprecated from version: 3.0\n",
      "* Will raise <class 'nibabel.deprecator.ExpiredDeprecationError'> as of version: 5.0\n",
      "  \"\"\"\n",
      "C:\\Users\\Hamid\\Anaconda3\\lib\\site-packages\\ipykernel_launcher.py:5: DeprecationWarning: get_data() is deprecated in favor of get_fdata(), which has a more predictable return type. To obtain get_data() behavior going forward, use numpy.asanyarray(img.dataobj).\n",
      "\n",
      "* deprecated from version: 3.0\n",
      "* Will raise <class 'nibabel.deprecator.ExpiredDeprecationError'> as of version: 5.0\n",
      "  \"\"\"\n",
      "C:\\Users\\Hamid\\Anaconda3\\lib\\site-packages\\ipykernel_launcher.py:5: DeprecationWarning: get_data() is deprecated in favor of get_fdata(), which has a more predictable return type. To obtain get_data() behavior going forward, use numpy.asanyarray(img.dataobj).\n",
      "\n",
      "* deprecated from version: 3.0\n",
      "* Will raise <class 'nibabel.deprecator.ExpiredDeprecationError'> as of version: 5.0\n",
      "  \"\"\"\n",
      "C:\\Users\\Hamid\\Anaconda3\\lib\\site-packages\\ipykernel_launcher.py:5: DeprecationWarning: get_data() is deprecated in favor of get_fdata(), which has a more predictable return type. To obtain get_data() behavior going forward, use numpy.asanyarray(img.dataobj).\n",
      "\n",
      "* deprecated from version: 3.0\n",
      "* Will raise <class 'nibabel.deprecator.ExpiredDeprecationError'> as of version: 5.0\n",
      "  \"\"\"\n",
      "C:\\Users\\Hamid\\Anaconda3\\lib\\site-packages\\ipykernel_launcher.py:5: DeprecationWarning: get_data() is deprecated in favor of get_fdata(), which has a more predictable return type. To obtain get_data() behavior going forward, use numpy.asanyarray(img.dataobj).\n",
      "\n",
      "* deprecated from version: 3.0\n",
      "* Will raise <class 'nibabel.deprecator.ExpiredDeprecationError'> as of version: 5.0\n",
      "  \"\"\"\n",
      "C:\\Users\\Hamid\\Anaconda3\\lib\\site-packages\\ipykernel_launcher.py:5: DeprecationWarning: get_data() is deprecated in favor of get_fdata(), which has a more predictable return type. To obtain get_data() behavior going forward, use numpy.asanyarray(img.dataobj).\n",
      "\n",
      "* deprecated from version: 3.0\n",
      "* Will raise <class 'nibabel.deprecator.ExpiredDeprecationError'> as of version: 5.0\n",
      "  \"\"\"\n",
      "C:\\Users\\Hamid\\Anaconda3\\lib\\site-packages\\ipykernel_launcher.py:5: DeprecationWarning: get_data() is deprecated in favor of get_fdata(), which has a more predictable return type. To obtain get_data() behavior going forward, use numpy.asanyarray(img.dataobj).\n",
      "\n",
      "* deprecated from version: 3.0\n",
      "* Will raise <class 'nibabel.deprecator.ExpiredDeprecationError'> as of version: 5.0\n",
      "  \"\"\"\n"
     ]
    },
    {
     "name": "stdout",
     "output_type": "stream",
     "text": [
      "(149, 51, 117)\n"
     ]
    },
    {
     "name": "stderr",
     "output_type": "stream",
     "text": [
      "C:\\Users\\Hamid\\Anaconda3\\lib\\site-packages\\ipykernel_launcher.py:5: DeprecationWarning: get_data() is deprecated in favor of get_fdata(), which has a more predictable return type. To obtain get_data() behavior going forward, use numpy.asanyarray(img.dataobj).\n",
      "\n",
      "* deprecated from version: 3.0\n",
      "* Will raise <class 'nibabel.deprecator.ExpiredDeprecationError'> as of version: 5.0\n",
      "  \"\"\"\n"
     ]
    }
   ],
   "source": [
    "images = []\n",
    "\n",
    "for f in range(len(threed)):\n",
    "    single = nib.load(threed[f])\n",
    "    single = single.get_data()\n",
    "    single = single[50:199,78:129,:117]\n",
    "    for i in range(single.shape[1]):\n",
    "        images.append((single[:,i,:]))\n",
    "print (single.shape)"
   ]
  },
  {
   "cell_type": "markdown",
   "metadata": {},
   "source": [
    "# Data Preprocessing\n",
    "\n",
    "## list to array and reshape it to matrix\n",
    "The images of the dataset are indeed grayscale images with a dimension of 149 x 117 so before we feed the data into the model it is very important to preprocess it. We'll first convert each 149 x 117image into a matrix of size 149 x 117 x 1, which you can feed into the network."
   ]
  },
  {
   "cell_type": "code",
   "execution_count": 65,
   "metadata": {},
   "outputs": [
    {
     "name": "stdout",
     "output_type": "stream",
     "text": [
      "Dimension of the array (408, 149, 117)\n",
      "Dimension of the matrix (408, 149, 117, 1)\n"
     ]
    }
   ],
   "source": [
    "# images are a list. use numpy module to convert it to a numpy array\n",
    "images = np.asarray(images)\n",
    "print('Dimension of the array',images.shape)\n",
    "\n",
    "# convert each image into a matrix of size  149 x 117 x 1, which  can be feed into the network\n",
    "images = images.reshape(-1, 149,117,1)\n",
    "print('Dimension of the matrix', images.shape)\n"
   ]
  },
  {
   "cell_type": "markdown",
   "metadata": {},
   "source": [
    "##  Normalisation by max-min"
   ]
  },
  {
   "cell_type": "code",
   "execution_count": 66,
   "metadata": {},
   "outputs": [
    {
     "data": {
      "text/plain": [
       "(0.0, 1.0)"
      ]
     },
     "execution_count": 66,
     "metadata": {},
     "output_type": "execute_result"
    }
   ],
   "source": [
    "# normalisation:\n",
    "m = np.max(images)\n",
    "mi = np.min(images)\n",
    "images = (images - mi) / (m - mi)\n",
    "\n",
    "# verify the minimum and maximum value of the data\n",
    "np.min(images), np.max(images)\n"
   ]
  },
  {
   "cell_type": "markdown",
   "metadata": {},
   "source": [
    "##  Padding\n",
    "We add zeros around each image so the dimension of the images are even and easier for downsampling."
   ]
  },
  {
   "cell_type": "code",
   "execution_count": 67,
   "metadata": {},
   "outputs": [],
   "source": [
    "#add zeros in three rows and three columns for pading.\n",
    "zero = np.zeros([408,152,120,1])\n",
    "zero[:,3:,3:,:] = images\n",
    "images = zero"
   ]
  },
  {
   "cell_type": "markdown",
   "metadata": {},
   "source": [
    "We do the train and test split. But in this case we do not have the labels as y"
   ]
  },
  {
   "cell_type": "code",
   "execution_count": 68,
   "metadata": {},
   "outputs": [],
   "source": [
    "train_X,valid_X,train_ground,valid_ground = train_test_split(images,\n",
    "                                                             images,\n",
    "                                                             test_size=0.2,\n",
    "                                                             random_state=13)"
   ]
  },
  {
   "cell_type": "code",
   "execution_count": 79,
   "metadata": {},
   "outputs": [
    {
     "data": {
      "text/plain": [
       "(82, 152, 120, 1)"
      ]
     },
     "execution_count": 79,
     "metadata": {},
     "output_type": "execute_result"
    }
   ],
   "source": [
    "valid_X.shape"
   ]
  },
  {
   "cell_type": "code",
   "execution_count": 69,
   "metadata": {},
   "outputs": [
    {
     "name": "stdout",
     "output_type": "stream",
     "text": [
      "Dataset (images) shape: (408, 152, 120, 1)\n"
     ]
    }
   ],
   "source": [
    "print(\"Dataset (images) shape: {shape}\".format(shape=images.shape))\n",
    "\n"
   ]
  },
  {
   "cell_type": "code",
   "execution_count": 70,
   "metadata": {},
   "outputs": [
    {
     "data": {
      "text/plain": [
       "<matplotlib.image.AxesImage at 0x1f99207b828>"
      ]
     },
     "execution_count": 70,
     "metadata": {},
     "output_type": "execute_result"
    },
    {
     "data": {
      "image/png": "[encoded data removed]",
      "text/plain": [
       "<Figure size 360x360 with 2 Axes>"
      ]
     },
     "metadata": {
      "needs_background": "light"
     },
     "output_type": "display_data"
    }
   ],
   "source": [
    "plt.figure(figsize=[5,5])\n",
    "\n",
    "# Display the first image in training data\n",
    "plt.subplot(121)\n",
    "curr_img = np.reshape(train_X[0], (152,120))\n",
    "plt.imshow(curr_img, cmap='gray')\n",
    "\n",
    "# Display the first image in testing data\n",
    "plt.subplot(122)\n",
    "curr_img = np.reshape(valid_X[0], (152,120))\n",
    "plt.imshow(curr_img, cmap='gray')"
   ]
  },
  {
   "cell_type": "markdown",
   "metadata": {},
   "source": [
    "# Convolutional Autoencoder\n"
   ]
  },
  {
   "cell_type": "code",
   "execution_count": 71,
   "metadata": {},
   "outputs": [],
   "source": [
    "def autoencoder(input_img):\n",
    "    #encoder\n",
    "    #input = 28 x 28 x 1 (wide and thin)\n",
    "    conv1 = Conv2D(16, (3, 3), activation='relu', padding='same')(input_img) #28 x 28 x 16\n",
    "    conv1 = BatchNormalization()(conv1)\n",
    "    conv1 = Conv2D(16, (3, 3), activation='relu', padding='same')(conv1)\n",
    "    conv1 = BatchNormalization()(conv1)\n",
    "    pool1 = MaxPooling2D(pool_size=(2, 2))(conv1) #14 x 14 x 16\n",
    "    conv2 = Conv2D(32, (3, 3), activation='relu', padding='same')(pool1) #14 x 14 x 64\n",
    "    conv2 = BatchNormalization()(conv2)\n",
    "    conv2 = Conv2D(32, (3, 3), activation='relu', padding='same')(conv2)\n",
    "    conv2 = BatchNormalization()(conv2)\n",
    "    pool2 = MaxPooling2D(pool_size=(2, 2))(conv2) #7 x 7 x 64\n",
    "    conv3 = Conv2D(64, (3, 3), activation='relu', padding='same')(pool2) #7 x 7 x 128 (small and thick)\n",
    "    conv3 = BatchNormalization()(conv3)\n",
    "    conv3 = Conv2D(64, (3, 3), activation='relu', padding='same')(conv3)\n",
    "    conv3 = BatchNormalization()(conv3)\n",
    "\n",
    "\n",
    "    #decoder\n",
    "    conv4 = Conv2D(32, (3, 3), activation='relu', padding='same')(conv3) #7 x 7 x 128\n",
    "    conv4 = BatchNormalization()(conv4)\n",
    "    conv4 = Conv2D(32, (3, 3), activation='relu', padding='same')(conv4)\n",
    "    conv4 = BatchNormalization()(conv4)\n",
    "    up1 = UpSampling2D((2,2))(conv4) # 14 x 14 x 128\n",
    "    conv5 = Conv2D(16, (3, 3), activation='relu', padding='same')(up1) # 14 x 14 x 64\n",
    "    conv5 = BatchNormalization()(conv5)\n",
    "    conv5 = Conv2D(16, (3, 3), activation='relu', padding='same')(conv5)\n",
    "    conv5 = BatchNormalization()(conv5)\n",
    "    up2 = UpSampling2D((2,2))(conv5) # 28 x 28 x 64\n",
    "    decoded = Conv2D(1, (3, 3), activation='sigmoid', padding='same')(up2) # 28 x 28 x 1\n",
    "    return decoded\n",
    "\n"
   ]
  },
  {
   "cell_type": "code",
   "execution_count": 72,
   "metadata": {},
   "outputs": [],
   "source": [
    "\n",
    "batch_size = 32\n",
    "epochs = 40\n",
    "inChannel = 1\n",
    "x, y = 152, 120\n",
    "input_img = Input(shape = (x, y, inChannel))\n"
   ]
  },
  {
   "cell_type": "code",
   "execution_count": 73,
   "metadata": {},
   "outputs": [],
   "source": [
    "autoencoder = Model(input_img, autoencoder(input_img))\n",
    "autoencoder.compile(loss='mean_squared_error', optimizer = RMSprop())"
   ]
  },
  {
   "cell_type": "code",
   "execution_count": 74,
   "metadata": {},
   "outputs": [
    {
     "name": "stdout",
     "output_type": "stream",
     "text": [
      "Model: \"model_4\"\n",
      "_________________________________________________________________\n",
      "Layer (type)                 Output Shape              Param #   \n",
      "=================================================================\n",
      "input_6 (InputLayer)         [(None, 152, 120, 1)]     0         \n",
      "_________________________________________________________________\n",
      "conv2d_33 (Conv2D)           (None, 152, 120, 16)      160       \n",
      "_________________________________________________________________\n",
      "batch_normalization_30 (Batc (None, 152, 120, 16)      64        \n",
      "_________________________________________________________________\n",
      "conv2d_34 (Conv2D)           (None, 152, 120, 16)      2320      \n",
      "_________________________________________________________________\n",
      "batch_normalization_31 (Batc (None, 152, 120, 16)      64        \n",
      "_________________________________________________________________\n",
      "max_pooling2d_6 (MaxPooling2 (None, 76, 60, 16)        0         \n",
      "_________________________________________________________________\n",
      "conv2d_35 (Conv2D)           (None, 76, 60, 32)        4640      \n",
      "_________________________________________________________________\n",
      "batch_normalization_32 (Batc (None, 76, 60, 32)        128       \n",
      "_________________________________________________________________\n",
      "conv2d_36 (Conv2D)           (None, 76, 60, 32)        9248      \n",
      "_________________________________________________________________\n",
      "batch_normalization_33 (Batc (None, 76, 60, 32)        128       \n",
      "_________________________________________________________________\n",
      "max_pooling2d_7 (MaxPooling2 (None, 38, 30, 32)        0         \n",
      "_________________________________________________________________\n",
      "conv2d_37 (Conv2D)           (None, 38, 30, 64)        18496     \n",
      "_________________________________________________________________\n",
      "batch_normalization_34 (Batc (None, 38, 30, 64)        256       \n",
      "_________________________________________________________________\n",
      "conv2d_38 (Conv2D)           (None, 38, 30, 64)        36928     \n",
      "_________________________________________________________________\n",
      "batch_normalization_35 (Batc (None, 38, 30, 64)        256       \n",
      "_________________________________________________________________\n",
      "conv2d_39 (Conv2D)           (None, 38, 30, 32)        18464     \n",
      "_________________________________________________________________\n",
      "batch_normalization_36 (Batc (None, 38, 30, 32)        128       \n",
      "_________________________________________________________________\n",
      "conv2d_40 (Conv2D)           (None, 38, 30, 32)        9248      \n",
      "_________________________________________________________________\n",
      "batch_normalization_37 (Batc (None, 38, 30, 32)        128       \n",
      "_________________________________________________________________\n",
      "up_sampling2d_6 (UpSampling2 (None, 76, 60, 32)        0         \n",
      "_________________________________________________________________\n",
      "conv2d_41 (Conv2D)           (None, 76, 60, 16)        4624      \n",
      "_________________________________________________________________\n",
      "batch_normalization_38 (Batc (None, 76, 60, 16)        64        \n",
      "_________________________________________________________________\n",
      "conv2d_42 (Conv2D)           (None, 76, 60, 16)        2320      \n",
      "_________________________________________________________________\n",
      "batch_normalization_39 (Batc (None, 76, 60, 16)        64        \n",
      "_________________________________________________________________\n",
      "up_sampling2d_7 (UpSampling2 (None, 152, 120, 16)      0         \n",
      "_________________________________________________________________\n",
      "conv2d_43 (Conv2D)           (None, 152, 120, 1)       145       \n",
      "=================================================================\n",
      "Total params: 107,873\n",
      "Trainable params: 107,233\n",
      "Non-trainable params: 640\n",
      "_________________________________________________________________\n"
     ]
    }
   ],
   "source": [
    "autoencoder.summary()\n"
   ]
  },
  {
   "cell_type": "code",
   "execution_count": 75,
   "metadata": {},
   "outputs": [
    {
     "name": "stdout",
     "output_type": "stream",
     "text": [
      "Train on 326 samples, validate on 82 samples\n",
      "Epoch 1/40\n",
      "326/326 [==============================] - 39s 119ms/sample - loss: 0.1066 - val_loss: 0.0905\n",
      "Epoch 2/40\n",
      "326/326 [==============================] - 42s 128ms/sample - loss: 0.0590 - val_loss: 0.0647\n",
      "Epoch 3/40\n",
      "326/326 [==============================] - 38s 117ms/sample - loss: 0.0427 - val_loss: 0.0483\n",
      "Epoch 4/40\n",
      "326/326 [==============================] - 34s 104ms/sample - loss: 0.0323 - val_loss: 0.0364\n",
      "Epoch 5/40\n",
      "326/326 [==============================] - 38s 116ms/sample - loss: 0.0257 - val_loss: 0.0297\n",
      "Epoch 6/40\n",
      "326/326 [==============================] - 39s 120ms/sample - loss: 0.0194 - val_loss: 0.0240\n",
      "Epoch 7/40\n",
      "326/326 [==============================] - 46s 140ms/sample - loss: 0.0159 - val_loss: 0.0242\n",
      "Epoch 8/40\n",
      "326/326 [==============================] - 41s 126ms/sample - loss: 0.0129 - val_loss: 0.0239\n",
      "Epoch 9/40\n",
      "326/326 [==============================] - 42s 128ms/sample - loss: 0.0106 - val_loss: 0.0273\n",
      "Epoch 10/40\n",
      "326/326 [==============================] - 38s 118ms/sample - loss: 0.0096 - val_loss: 0.0273\n",
      "Epoch 11/40\n",
      "326/326 [==============================] - 47s 144ms/sample - loss: 0.0083 - val_loss: 0.0270\n",
      "Epoch 12/40\n",
      "326/326 [==============================] - 44s 136ms/sample - loss: 0.0074 - val_loss: 0.0279\n",
      "Epoch 13/40\n",
      "326/326 [==============================] - 38s 117ms/sample - loss: 0.0069 - val_loss: 0.0281\n",
      "Epoch 14/40\n",
      "326/326 [==============================] - 40s 122ms/sample - loss: 0.0061 - val_loss: 0.0270\n",
      "Epoch 15/40\n",
      "326/326 [==============================] - 41s 126ms/sample - loss: 0.0067 - val_loss: 0.0288\n",
      "Epoch 16/40\n",
      "326/326 [==============================] - 38s 116ms/sample - loss: 0.0052 - val_loss: 0.0267\n",
      "Epoch 17/40\n",
      "326/326 [==============================] - 38s 116ms/sample - loss: 0.0051 - val_loss: 0.0279\n",
      "Epoch 18/40\n",
      "326/326 [==============================] - 37s 114ms/sample - loss: 0.0055 - val_loss: 0.0240\n",
      "Epoch 19/40\n",
      "326/326 [==============================] - 33s 102ms/sample - loss: 0.0046 - val_loss: 0.0274\n",
      "Epoch 20/40\n",
      "326/326 [==============================] - 33s 102ms/sample - loss: 0.0053 - val_loss: 0.0236\n",
      "Epoch 21/40\n",
      "326/326 [==============================] - 33s 102ms/sample - loss: 0.0044 - val_loss: 0.0255\n",
      "Epoch 22/40\n",
      "326/326 [==============================] - 33s 103ms/sample - loss: 0.0040 - val_loss: 0.0205\n",
      "Epoch 23/40\n",
      "326/326 [==============================] - 33s 101ms/sample - loss: 0.0107 - val_loss: 0.3513\n",
      "Epoch 24/40\n",
      "326/326 [==============================] - 33s 101ms/sample - loss: 0.0202 - val_loss: 0.0339\n",
      "Epoch 25/40\n",
      "326/326 [==============================] - 35s 107ms/sample - loss: 0.0087 - val_loss: 0.0287\n",
      "Epoch 26/40\n",
      "326/326 [==============================] - 36s 111ms/sample - loss: 0.0095 - val_loss: 0.0316\n",
      "Epoch 27/40\n",
      "326/326 [==============================] - 35s 109ms/sample - loss: 0.0070 - val_loss: 0.0253\n",
      "Epoch 28/40\n",
      "326/326 [==============================] - 42s 129ms/sample - loss: 0.0058 - val_loss: 0.0219\n",
      "Epoch 29/40\n",
      "326/326 [==============================] - 44s 134ms/sample - loss: 0.0050 - val_loss: 0.0218\n",
      "Epoch 30/40\n",
      "326/326 [==============================] - 49s 150ms/sample - loss: 0.0052 - val_loss: 0.0190\n",
      "Epoch 31/40\n",
      "326/326 [==============================] - 39s 121ms/sample - loss: 0.0039 - val_loss: 0.0168\n",
      "Epoch 32/40\n",
      "326/326 [==============================] - 37s 115ms/sample - loss: 0.0042 - val_loss: 0.0153\n",
      "Epoch 33/40\n",
      "326/326 [==============================] - 39s 119ms/sample - loss: 0.0045 - val_loss: 0.0167\n",
      "Epoch 34/40\n",
      "326/326 [==============================] - 38s 116ms/sample - loss: 0.0042 - val_loss: 0.0277\n",
      "Epoch 35/40\n",
      "326/326 [==============================] - 38s 115ms/sample - loss: 0.0039 - val_loss: 0.0146\n",
      "Epoch 36/40\n",
      "326/326 [==============================] - 37s 114ms/sample - loss: 0.0037 - val_loss: 0.0132\n",
      "Epoch 37/40\n",
      "326/326 [==============================] - 38s 116ms/sample - loss: 0.0037 - val_loss: 0.0094\n",
      "Epoch 38/40\n",
      "326/326 [==============================] - 37s 114ms/sample - loss: 0.0035 - val_loss: 0.0145\n",
      "Epoch 39/40\n",
      "326/326 [==============================] - 41s 126ms/sample - loss: 0.0042 - val_loss: 0.0081\n",
      "Epoch 40/40\n",
      "326/326 [==============================] - 45s 139ms/sample - loss: 0.0041 - val_loss: 0.0085\n"
     ]
    }
   ],
   "source": [
    "autoencoder_train = autoencoder.fit(train_X, train_ground, batch_size=batch_size,epochs=epochs,verbose=1,validation_data=(valid_X, valid_ground))\n"
   ]
  },
  {
   "cell_type": "code",
   "execution_count": 54,
   "metadata": {},
   "outputs": [
    {
     "data": {
      "image/png": "[encoded data removed]",
      "text/plain": [
       "<Figure size 432x288 with 1 Axes>"
      ]
     },
     "metadata": {
      "needs_background": "light"
     },
     "output_type": "display_data"
    }
   ],
   "source": [
    "loss = autoencoder_train.history['loss']\n",
    "val_loss = autoencoder_train.history['val_loss']\n",
    "epochs = range(50)\n",
    "plt.figure()\n",
    "plt.plot(epochs, loss, 'bo', label='Training loss')\n",
    "plt.plot(epochs, val_loss, 'b', label='Validation loss')\n",
    "plt.title('Training and validation loss')\n",
    "plt.legend()\n",
    "plt.show()"
   ]
  },
  {
   "cell_type": "markdown",
   "metadata": {},
   "source": [
    "# Save the Model\n"
   ]
  },
  {
   "cell_type": "code",
   "execution_count": 76,
   "metadata": {},
   "outputs": [],
   "source": []
  },
  {
   "cell_type": "code",
   "execution_count": 82,
   "metadata": {},
   "outputs": [
    {
     "ename": "TypeError",
     "evalue": "'NoneType' object is not callable",
     "output_type": "error",
     "traceback": [
      "\u001b[1;31m---------------------------------------------------------------------------\u001b[0m",
      "\u001b[1;31mTypeError\u001b[0m                                 Traceback (most recent call last)",
      "\u001b[1;32m<ipython-input-82-b8b4014a6981>\u001b[0m in \u001b[0;36m<module>\u001b[1;34m()\u001b[0m\n\u001b[1;32m----> 1\u001b[1;33m \u001b[0mautoencoder\u001b[0m \u001b[1;33m=\u001b[0m \u001b[0mModel\u001b[0m\u001b[1;33m(\u001b[0m\u001b[0minput_img\u001b[0m\u001b[1;33m,\u001b[0m \u001b[0mautoencoder\u001b[0m\u001b[1;33m(\u001b[0m\u001b[0minput_img\u001b[0m\u001b[1;33m)\u001b[0m\u001b[1;33m)\u001b[0m\u001b[1;33m\u001b[0m\u001b[0m\n\u001b[0m",
      "\u001b[1;31mTypeError\u001b[0m: 'NoneType' object is not callable"
     ]
    }
   ],
   "source": [
    "autoencoder = Model(input_img, autoencoder(input_img))\n"
   ]
  },
  {
   "cell_type": "code",
   "execution_count": 83,
   "metadata": {},
   "outputs": [
    {
     "ename": "AttributeError",
     "evalue": "'NoneType' object has no attribute 'predict'",
     "output_type": "error",
     "traceback": [
      "\u001b[1;31m---------------------------------------------------------------------------\u001b[0m",
      "\u001b[1;31mAttributeError\u001b[0m                            Traceback (most recent call last)",
      "\u001b[1;32m<ipython-input-83-9be5e98c4e9d>\u001b[0m in \u001b[0;36m<module>\u001b[1;34m()\u001b[0m\n\u001b[1;32m----> 1\u001b[1;33m \u001b[0mpred\u001b[0m \u001b[1;33m=\u001b[0m \u001b[0mautoencoder\u001b[0m\u001b[1;33m.\u001b[0m\u001b[0mpredict\u001b[0m\u001b[1;33m(\u001b[0m\u001b[0mvalid_X\u001b[0m\u001b[1;33m)\u001b[0m\u001b[1;33m\u001b[0m\u001b[0m\n\u001b[0m",
      "\u001b[1;31mAttributeError\u001b[0m: 'NoneType' object has no attribute 'predict'"
     ]
    }
   ],
   "source": [
    "pred = autoencoder.predict(valid_X)\n"
   ]
  },
  {
   "cell_type": "code",
   "execution_count": null,
   "metadata": {},
   "outputs": [],
   "source": []
  }
 ],
 "metadata": {
  "kernelspec": {
   "display_name": "Python 3",
   "language": "python",
   "name": "python3"
  },
  "language_info": {
   "codemirror_mode": {
    "name": "ipython",
    "version": 3
   },
   "file_extension": ".py",
   "mimetype": "text/x-python",
   "name": "python",
   "nbconvert_exporter": "python",
   "pygments_lexer": "ipython3",
   "version": "3.7.0"
  },
  "toc": {
   "base_numbering": 1,
   "nav_menu": {},
   "number_sections": true,
   "sideBar": true,
   "skip_h1_title": false,
   "title_cell": "Table of Contents",
   "title_sidebar": "Contents",
   "toc_cell": true,
   "toc_position": {},
   "toc_section_display": true,
   "toc_window_display": true
  }
 },
 "nbformat": 4,
 "nbformat_minor": 2
}
